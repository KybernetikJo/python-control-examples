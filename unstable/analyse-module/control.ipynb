{
 "cells": [
  {
   "attachments": {},
   "cell_type": "markdown",
   "metadata": {},
   "source": [
    "# Control Functions & Classes"
   ]
  },
  {
   "attachments": {},
   "cell_type": "markdown",
   "metadata": {},
   "source": [
    "## Functions"
   ]
  },
  {
   "cell_type": "code",
   "execution_count": 1,
   "metadata": {},
   "outputs": [],
   "source": [
    "import control\n",
    "\n",
    "from inspect import getmembers, isfunction, isclass"
   ]
  },
  {
   "cell_type": "code",
   "execution_count": 3,
   "metadata": {},
   "outputs": [
    {
     "name": "stdout",
     "output_type": "stream",
     "text": [
      "['acker', 'append', 'augw', 'balred', 'bandwidth', 'bdschur', 'bode', 'bode_plot', 'box_grid', 'c2d', 'canonical_form', 'care', 'combine_time_responses', 'common_timebase', 'connect', 'correlation', 'create_estimator_iosystem', 'create_statefbk_iosystem', 'ctrb', 'cvxopt_check', 'damp', 'dare', 'db2mag', 'dcgain', 'describing_function', 'describing_function_plot', 'dlqe', 'dlqr', 'dlyap', 'drss', 'era', 'evalfr', 'feedback', 'find_eqpt', 'forced_response', 'frd', 'freqresp', 'frequency_response', 'gangof4', 'gangof4_plot', 'get_input_ff_index', 'get_output_fb_index', 'get_plot_axes', 'gram', 'h2syn', 'hinfsyn', 'hsvd', 'impulse_response', 'initial_response', 'input_output_response', 'interconnect', 'isctime', 'isdtime', 'ispassive', 'issiso', 'issys', 'linearize', 'linfnorm', 'lqe', 'lqr', 'lyap', 'mag2db', 'margin', 'markov', 'minreal', 'mixsyn', 'modal_form', 'modred', 'negate', 'nichols', 'nichols_grid', 'nichols_plot', 'nlsys', 'nyquist', 'nyquist_plot', 'observable_form', 'obsv', 'pade', 'pandas_check', 'parallel', 'phase_crossover_frequencies', 'phase_plot', 'place', 'place_varga', 'poles', 'pzmap', 'reachable_form', 'reset_defaults', 'rlocus', 'root_locus', 'rootlocus_pid_designer', 'rss', 'sample_system', 'series', 'set_defaults', 'similarity_transform', 'singular_values_plot', 'sisotool', 'slycot_check', 'solve_passivity_LMI', 'ss', 'ss2io', 'ss2tf', 'ssdata', 'stability_margins', 'step_info', 'step_response', 'summing_junction', 'tf', 'tf2io', 'tf2ss', 'tfdata', 'time_response_plot', 'timebase', 'unwrap', 'use_fbs_defaults', 'use_legacy_defaults', 'use_matlab_defaults', 'white_noise', 'zeros', 'zpk']\n",
      "Currently there are 121 methods implemented.\n"
     ]
    }
   ],
   "source": [
    "control_methods = [t[0] for t in getmembers(control, isfunction)]\n",
    "\n",
    "print(control_methods)\n",
    "print(f\"Currently there are {len(control_methods)} methods implemented.\")"
   ]
  },
  {
   "cell_type": "code",
   "execution_count": 6,
   "metadata": {},
   "outputs": [
    {
     "data": {
      "text/plain": [
       "False"
      ]
     },
     "execution_count": 6,
     "metadata": {},
     "output_type": "execute_result"
    }
   ],
   "source": [
    "\"norm\" in control_methods"
   ]
  },
  {
   "attachments": {},
   "cell_type": "markdown",
   "metadata": {},
   "source": [
    "## Classes"
   ]
  },
  {
   "cell_type": "code",
   "execution_count": 3,
   "metadata": {},
   "outputs": [
    {
     "name": "stdout",
     "output_type": "stream",
     "text": [
      "['ControlArgument', 'ControlDimension', 'ControlMIMONotImplemented', 'ControlNotImplemented', 'ControlSlycot', 'DescribingFunctionNonlinearity', 'FRD', 'FrequencyResponseData', 'InputOutputSystem', 'InterconnectedSystem', 'LinearICSystem', 'NonlinearIOSystem', 'StateSpace', 'TimeResponseData', 'TransferFunction', 'friction_backlash_nonlinearity', 'relay_hysteresis_nonlinearity', 'saturation_nonlinearity']\n",
      "Currently there are 18 classes implemented.\n"
     ]
    }
   ],
   "source": [
    "control_classes = [t[0] for t in getmembers(control, isclass)]\n",
    "\n",
    "print(control_classes)\n",
    "print(f\"Currently there are {len(control_classes)} classes implemented.\")"
   ]
  },
  {
   "cell_type": "code",
   "execution_count": null,
   "metadata": {},
   "outputs": [],
   "source": []
  }
 ],
 "metadata": {
  "kernelspec": {
   "display_name": "control",
   "language": "python",
   "name": "python3"
  },
  "language_info": {
   "codemirror_mode": {
    "name": "ipython",
    "version": 3
   },
   "file_extension": ".py",
   "mimetype": "text/x-python",
   "name": "python",
   "nbconvert_exporter": "python",
   "pygments_lexer": "ipython3",
   "version": "3.10.6"
  },
  "orig_nbformat": 4
 },
 "nbformat": 4,
 "nbformat_minor": 2
}
