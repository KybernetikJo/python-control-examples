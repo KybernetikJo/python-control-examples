{
 "cells": [
  {
   "attachments": {},
   "cell_type": "markdown",
   "metadata": {},
   "source": [
    "# H2/L2 system norm - continuous case"
   ]
  },
  {
   "cell_type": "code",
   "execution_count": 5,
   "metadata": {},
   "outputs": [
    {
     "name": "stdout",
     "output_type": "stream",
     "text": [
      "0.9.5.dev68+gbcd62b1.d20230719\n",
      "0.5.4\n"
     ]
    }
   ],
   "source": [
    "import numpy as np\n",
    "import scipy.linalg as linalg\n",
    "\n",
    "import control as ct\n",
    "print(ct.__version__)\n",
    "\n",
    "import slycot\n",
    "print(slycot.__version__)"
   ]
  },
  {
   "attachments": {},
   "cell_type": "markdown",
   "metadata": {},
   "source": [
    "## Slycot"
   ]
  },
  {
   "cell_type": "code",
   "execution_count": 6,
   "metadata": {},
   "outputs": [
    {
     "name": "stdout",
     "output_type": "stream",
     "text": [
      "3.872983346207419\n",
      "3.872983346207419\n",
      "3.872983346207419\n"
     ]
    }
   ],
   "source": [
    "def h2norm_slycot_c(A,B,C,D):\n",
    "    dico = 'C'\n",
    "    jobn = 'H'\n",
    "\n",
    "    n, m = B.shape\n",
    "    p, _ = C.shape\n",
    "\n",
    "    a = A.copy()\n",
    "    b = B.copy()\n",
    "    c = C.copy()\n",
    "    d = D.copy()\n",
    "\n",
    "    h2norm = 0\n",
    "    h2norm = slycot.ab13bd(dico, jobn, n, m, p, a, b, c, d)\n",
    "    return h2norm\n",
    "\n",
    "A1 = np.array([[0.0, 1.0],[-0.5, -0.1]])\n",
    "B1 = np.array([[0.],[1.]])\n",
    "C1 = np.eye(2)\n",
    "D1 = np.zeros((2,1))\n",
    "\n",
    "print(h2norm_slycot_c(A1,B1,C1,D1))\n",
    "print(h2norm_slycot_c(A1,B1,C1,D1))\n",
    "print(h2norm_slycot_c(A1,B1,C1,D1))"
   ]
  },
  {
   "cell_type": "code",
   "execution_count": 9,
   "metadata": {},
   "outputs": [
    {
     "name": "stdout",
     "output_type": "stream",
     "text": [
      "3.872983346207417\n",
      "3.872983346207417\n",
      "3.872983346207417\n",
      "3.872983346207417\n"
     ]
    }
   ],
   "source": [
    "def h2norm_c(A,B,C,D,method=\"Wc\"):\n",
    "    \"\"\" naive implementation of the h2 system norm of linear time-cont time-invariant systems (c-LTI)\n",
    "        (there might be better ways to do that, => check papers)\n",
    "    \"\"\"\n",
    "    try:\n",
    "        if method==\"Wc\":\n",
    "            Wc = linalg.solve_continuous_lyapunov(A, -B@B.T)\n",
    "            W = Wc\n",
    "        else:\n",
    "            Wo = linalg.solve_continuous_lyapunov(A.T, -C.T@C)\n",
    "            W = Wo \n",
    "        if np.all(np.real(linalg.eigvals(W)) < 0):\n",
    "            H2 = np.inf\n",
    "        else:\n",
    "            if method == \"Wc\":\n",
    "                H2 = np.sqrt(np.trace(C@Wc@C.T))\n",
    "            else:\n",
    "                H2 = np.sqrt(np.trace(B.T@Wo@B))\n",
    "    except RuntimeWarning:\n",
    "        H2 = np.inf\n",
    "    return H2\n",
    "\n",
    "print(h2norm_c(A1,B1,C1,D1))\n",
    "print(h2norm_c(A1,B1,C1,D1))\n",
    "print(h2norm_c(A1,B1,C1,D1,method=\"Wo\"))\n",
    "print(h2norm_c(A1,B1,C1,D1,method=\"Wo\"))"
   ]
  },
  {
   "cell_type": "code",
   "execution_count": null,
   "metadata": {},
   "outputs": [],
   "source": []
  }
 ],
 "metadata": {
  "kernelspec": {
   "display_name": "control",
   "language": "python",
   "name": "python3"
  },
  "language_info": {
   "codemirror_mode": {
    "name": "ipython",
    "version": 3
   },
   "file_extension": ".py",
   "mimetype": "text/x-python",
   "name": "python",
   "nbconvert_exporter": "python",
   "pygments_lexer": "ipython3",
   "version": "3.10.6"
  },
  "orig_nbformat": 4
 },
 "nbformat": 4,
 "nbformat_minor": 2
}
