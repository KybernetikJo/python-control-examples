{
 "cells": [
  {
   "attachments": {},
   "cell_type": "markdown",
   "metadata": {},
   "source": [
    "# H2/L2 system norm - discrete case"
   ]
  },
  {
   "attachments": {},
   "cell_type": "markdown",
   "metadata": {},
   "source": [
    "## Slycot"
   ]
  },
  {
   "cell_type": "code",
   "execution_count": 38,
   "metadata": {},
   "outputs": [
    {
     "name": "stdout",
     "output_type": "stream",
     "text": [
      "0.9.5.dev54+gcf27186.d20230712\n",
      "0.5.4\n"
     ]
    }
   ],
   "source": [
    "import numpy as np\n",
    "import scipy.linalg as linalg\n",
    "\n",
    "import control\n",
    "print(control.__version__)\n",
    "\n",
    "import slycot\n",
    "print(slycot.__version__)"
   ]
  },
  {
   "cell_type": "code",
   "execution_count": 39,
   "metadata": {},
   "outputs": [
    {
     "data": {
      "text/plain": [
       "1.1732382943111321"
      ]
     },
     "execution_count": 39,
     "metadata": {},
     "output_type": "execute_result"
    }
   ],
   "source": [
    "def h2norm_slycot_d(A,B,C,D):\n",
    "    dico = 'D'\n",
    "    jobn = 'H'\n",
    "\n",
    "    n, m = B.shape\n",
    "    p, _ = C.shape\n",
    "\n",
    "    h2norm = slycot.ab13bd(dico, jobn, n, m, p, A, B, C, D)\n",
    "    return h2norm\n",
    "\n",
    "A1 = np.array([[0.5, 0.1],[0.1, 0.5]])\n",
    "B1 = np.array([[0.],[1.]])\n",
    "C1 = np.eye(2)\n",
    "D1 = np.zeros((2,1))\n",
    "\n",
    "h2norm_slycot_d(A1,B1,C1,D1)"
   ]
  },
  {
   "attachments": {},
   "cell_type": "markdown",
   "metadata": {},
   "source": [
    "## Scipy"
   ]
  },
  {
   "cell_type": "code",
   "execution_count": 40,
   "metadata": {},
   "outputs": [],
   "source": [
    "%reset -f"
   ]
  },
  {
   "cell_type": "code",
   "execution_count": 41,
   "metadata": {},
   "outputs": [
    {
     "name": "stdout",
     "output_type": "stream",
     "text": [
      "0.9.5.dev54+gcf27186.d20230712\n",
      "0.5.4\n"
     ]
    }
   ],
   "source": [
    "import numpy as np\n",
    "import scipy.linalg as linalg\n",
    "\n",
    "import control\n",
    "print(control.__version__)\n",
    "\n",
    "import slycot\n",
    "print(slycot.__version__)"
   ]
  },
  {
   "attachments": {},
   "cell_type": "markdown",
   "metadata": {},
   "source": []
  },
  {
   "cell_type": "code",
   "execution_count": 43,
   "metadata": {},
   "outputs": [
    {
     "data": {
      "text/plain": [
       "1.1732382943111324"
      ]
     },
     "execution_count": 43,
     "metadata": {},
     "output_type": "execute_result"
    }
   ],
   "source": [
    "def h2norm_d(A,B,C,D):\n",
    "    \"\"\" naive implementation of the h2 system norm of linear time-discrete time-invariant systems (d-LTI)\n",
    "        (there might be better ways to do that, => check papers)\n",
    "    \"\"\"\n",
    "    try:\n",
    "        P = linalg.solve_discrete_lyapunov(A.T, B@B.T)\n",
    "        if np.all(np.real(linalg.eigvals(P)) < 0):\n",
    "            H2 = np.inf\n",
    "        else:\n",
    "            H2 = np.sqrt(np.trace(C@P@C.T+D@D.T))\n",
    "    except RuntimeWarning:\n",
    "        H2 = np.inf\n",
    "    return H2\n",
    "\n",
    "A1 = np.array([[0.5, 0.1],[0.1, 0.5]])\n",
    "B1 = np.array([[0.],[1.]])\n",
    "C1 = np.eye(2)\n",
    "D1 = np.zeros((2,1))\n",
    "\n",
    "h2norm_d_scipy = h2norm_d(A1,B1,C1,D1)\n",
    "h2norm_d_scipy"
   ]
  },
  {
   "cell_type": "code",
   "execution_count": null,
   "metadata": {},
   "outputs": [],
   "source": []
  }
 ],
 "metadata": {
  "kernelspec": {
   "display_name": "control",
   "language": "python",
   "name": "python3"
  },
  "language_info": {
   "codemirror_mode": {
    "name": "ipython",
    "version": 3
   },
   "file_extension": ".py",
   "mimetype": "text/x-python",
   "name": "python",
   "nbconvert_exporter": "python",
   "pygments_lexer": "ipython3",
   "version": "3.10.6"
  },
  "orig_nbformat": 4
 },
 "nbformat": 4,
 "nbformat_minor": 2
}
