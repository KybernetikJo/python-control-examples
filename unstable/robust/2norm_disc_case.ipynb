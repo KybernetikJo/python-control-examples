{
 "cells": [
  {
   "attachments": {},
   "cell_type": "markdown",
   "metadata": {},
   "source": [
    "# H2/L2 system norm - discrete case"
   ]
  },
  {
   "attachments": {},
   "cell_type": "markdown",
   "metadata": {},
   "source": [
    "## Slycot"
   ]
  },
  {
   "cell_type": "code",
   "execution_count": 1,
   "metadata": {},
   "outputs": [
    {
     "name": "stdout",
     "output_type": "stream",
     "text": [
      "0.9.5.dev68+gbcd62b1.d20230719\n",
      "0.5.4\n"
     ]
    }
   ],
   "source": [
    "import numpy as np\n",
    "import scipy.linalg as linalg\n",
    "\n",
    "import control\n",
    "print(control.__version__)\n",
    "\n",
    "import slycot\n",
    "print(slycot.__version__)"
   ]
  },
  {
   "cell_type": "code",
   "execution_count": 2,
   "metadata": {},
   "outputs": [
    {
     "name": "stdout",
     "output_type": "stream",
     "text": [
      "1.1732382943111321\n",
      "1.1732382943111321\n",
      "1.1732382943111321\n"
     ]
    }
   ],
   "source": [
    "def h2norm_slycot_d(A,B,C,D):\n",
    "    dico = 'D'\n",
    "    jobn = 'H'\n",
    "\n",
    "    n, m = B.shape\n",
    "    p, _ = C.shape\n",
    "\n",
    "    a = A.copy()\n",
    "    b = B.copy()\n",
    "    c = C.copy()\n",
    "    d = D.copy()\n",
    "\n",
    "    h2norm = slycot.ab13bd(dico, jobn, n, m, p, a, b, c, d)\n",
    "    return h2norm\n",
    "\n",
    "A1 = np.array([[0.5, 0.1],[0.1, 0.5]])\n",
    "B1 = np.array([[0.],[1.]])\n",
    "C1 = np.eye(2)\n",
    "D1 = np.zeros((2,1))\n",
    "\n",
    "print(h2norm_slycot_d(A1,B1,C1,D1))\n",
    "print(h2norm_slycot_d(A1,B1,C1,D1))\n",
    "print(h2norm_slycot_d(A1,B1,C1,D1))"
   ]
  },
  {
   "attachments": {},
   "cell_type": "markdown",
   "metadata": {},
   "source": [
    "## Scipy"
   ]
  },
  {
   "cell_type": "code",
   "execution_count": 4,
   "metadata": {},
   "outputs": [
    {
     "name": "stdout",
     "output_type": "stream",
     "text": [
      "1.1732382943111324\n",
      "1.1732382943111324\n",
      "1.1732382943111324\n",
      "1.1732382943111324\n"
     ]
    }
   ],
   "source": [
    "def h2norm_d(A,B,C,D,method=\"Wc\"):\n",
    "    \"\"\" naive implementation of the h2 system norm of linear time-discrete time-invariant systems (d-LTI)\n",
    "        (there might be better ways to do that, => check papers)\n",
    "    \"\"\"\n",
    "    try:\n",
    "        if method==\"Wc\":\n",
    "            Wc = linalg.solve_discrete_lyapunov(A.T, B@B.T)\n",
    "            W = Wc\n",
    "        else:\n",
    "            Wo = linalg.solve_discrete_lyapunov(A, C.T@C)\n",
    "            W = Wo\n",
    "\n",
    "        if np.all(np.real(linalg.eigvals(W)) < 0):\n",
    "            H2 = np.inf\n",
    "        else:\n",
    "            if method == \"Wc\":\n",
    "                H2 = np.sqrt(np.trace(C@W@C.T+D@D.T))\n",
    "            else:\n",
    "                H2 = np.sqrt(np.trace(B.T@W@B+D@D.T))\n",
    "    except RuntimeWarning:\n",
    "        H2 = np.inf\n",
    "    return H2\n",
    "\n",
    "A1 = np.array([[0.5, 0.1],[0.1, 0.5]])\n",
    "B1 = np.array([[0.],[1.]])\n",
    "C1 = np.eye(2)\n",
    "D1 = np.zeros((2,1))\n",
    "\n",
    "print(h2norm_d(A1,B1,C1,D1))\n",
    "print(h2norm_d(A1,B1,C1,D1))\n",
    "print(h2norm_d(A1,B1,C1,D1,method=\"Wc\"))\n",
    "print(h2norm_d(A1,B1,C1,D1,method=\"Wc\"))"
   ]
  }
 ],
 "metadata": {
  "kernelspec": {
   "display_name": "control",
   "language": "python",
   "name": "python3"
  },
  "language_info": {
   "codemirror_mode": {
    "name": "ipython",
    "version": 3
   },
   "file_extension": ".py",
   "mimetype": "text/x-python",
   "name": "python",
   "nbconvert_exporter": "python",
   "pygments_lexer": "ipython3",
   "version": "3.10.6"
  },
  "orig_nbformat": 4
 },
 "nbformat": 4,
 "nbformat_minor": 2
}
