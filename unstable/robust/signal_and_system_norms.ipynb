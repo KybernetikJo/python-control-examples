{
 "cells": [
  {
   "attachments": {},
   "cell_type": "markdown",
   "metadata": {},
   "source": [
    "# Signal and System norms"
   ]
  },
  {
   "attachments": {},
   "cell_type": "markdown",
   "metadata": {},
   "source": [
    "On infinite squences $g: \\mathbb{N} \\rightarrow \\mathbb{R}$\n",
    "\n",
    "- $\\lVert g \\rVert_{l_1} = \\Sigma_{i=1}^{\\infty} |g_i|$\n",
    "- $\\lVert g \\rVert_{l_2} = \\sqrt{\\Sigma_{i=1}^{\\infty} g_i^2}$\n",
    "- $\\lVert g \\rVert_{l_p} = \\sqrt[p]{ \\Sigma_{i=1}^{\\infty} g_i^p }$\n",
    "- $\\lVert g \\rVert_{l_{\\infty}} = max_{i = 1,\\dots,\\infty}|g_i|$"
   ]
  },
  {
   "attachments": {},
   "cell_type": "markdown",
   "metadata": {},
   "source": []
  },
  {
   "attachments": {},
   "cell_type": "markdown",
   "metadata": {},
   "source": [
    "On functions $f: [0,\\infty) \\rightarrow \\mathbb{R}$\n",
    "\n",
    "- $\\lVert f \\rVert_{L_1} = \\int_{0}^{\\infty} \\lvert f(s) \\rvert ds$\n",
    "- $\\lVert f \\rVert_{L_2} = \\sqrt{\\int_{0}^{\\infty} \\lvert f(s)^2 \\rvert ds}$\n",
    "- $\\lVert f \\rVert_{L_p} = \\sqrt[p]{\\int_{0}^{\\infty} \\lvert f(s)^p \\rvert ds }$\n",
    "- $\\lVert f \\rVert_{L_{\\infty}} = \\sup_{s \\in [0,\\infty)} \\lvert f(s) \\rvert$"
   ]
  },
  {
   "attachments": {},
   "cell_type": "markdown",
   "metadata": {},
   "source": [
    "- $L_2(-\\infty,\\infty) = L_2(j\\mathbb{R})$\n",
    "- $L_2[0,\\infty) = H_2$\n",
    "- $L_2(-\\infty,0] = H_2^{\\perp}$"
   ]
  },
  {
   "attachments": {},
   "cell_type": "markdown",
   "metadata": {},
   "source": []
  }
 ],
 "metadata": {
  "language_info": {
   "name": "python"
  },
  "orig_nbformat": 4
 },
 "nbformat": 4,
 "nbformat_minor": 2
}
